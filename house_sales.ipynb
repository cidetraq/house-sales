{
 "cells": [
  {
   "cell_type": "markdown",
   "metadata": {},
   "source": [
    "<h1>Introduction</h1>\n",
    "\n",
    "In this project I clean and transform data, analyze correlation and use linear regression to arrive at a model that predicts a house's sale price."
   ]
  },
  {
   "cell_type": "code",
   "execution_count": 1,
   "metadata": {},
   "outputs": [
    {
     "data": {
      "text/html": [
       "<div>\n",
       "<style scoped>\n",
       "    .dataframe tbody tr th:only-of-type {\n",
       "        vertical-align: middle;\n",
       "    }\n",
       "\n",
       "    .dataframe tbody tr th {\n",
       "        vertical-align: top;\n",
       "    }\n",
       "\n",
       "    .dataframe thead th {\n",
       "        text-align: right;\n",
       "    }\n",
       "</style>\n",
       "<table border=\"1\" class=\"dataframe\">\n",
       "  <thead>\n",
       "    <tr style=\"text-align: right;\">\n",
       "      <th></th>\n",
       "      <th>Order</th>\n",
       "      <th>PID</th>\n",
       "      <th>MS SubClass</th>\n",
       "      <th>MS Zoning</th>\n",
       "      <th>Lot Frontage</th>\n",
       "      <th>Lot Area</th>\n",
       "      <th>Street</th>\n",
       "      <th>Alley</th>\n",
       "      <th>Lot Shape</th>\n",
       "      <th>Land Contour</th>\n",
       "      <th>...</th>\n",
       "      <th>Pool Area</th>\n",
       "      <th>Pool QC</th>\n",
       "      <th>Fence</th>\n",
       "      <th>Misc Feature</th>\n",
       "      <th>Misc Val</th>\n",
       "      <th>Mo Sold</th>\n",
       "      <th>Yr Sold</th>\n",
       "      <th>Sale Type</th>\n",
       "      <th>Sale Condition</th>\n",
       "      <th>SalePrice</th>\n",
       "    </tr>\n",
       "  </thead>\n",
       "  <tbody>\n",
       "    <tr>\n",
       "      <th>0</th>\n",
       "      <td>1</td>\n",
       "      <td>526301100</td>\n",
       "      <td>20</td>\n",
       "      <td>RL</td>\n",
       "      <td>141.0</td>\n",
       "      <td>31770</td>\n",
       "      <td>Pave</td>\n",
       "      <td>NaN</td>\n",
       "      <td>IR1</td>\n",
       "      <td>Lvl</td>\n",
       "      <td>...</td>\n",
       "      <td>0</td>\n",
       "      <td>NaN</td>\n",
       "      <td>NaN</td>\n",
       "      <td>NaN</td>\n",
       "      <td>0</td>\n",
       "      <td>5</td>\n",
       "      <td>2010</td>\n",
       "      <td>WD</td>\n",
       "      <td>Normal</td>\n",
       "      <td>215000</td>\n",
       "    </tr>\n",
       "    <tr>\n",
       "      <th>1</th>\n",
       "      <td>2</td>\n",
       "      <td>526350040</td>\n",
       "      <td>20</td>\n",
       "      <td>RH</td>\n",
       "      <td>80.0</td>\n",
       "      <td>11622</td>\n",
       "      <td>Pave</td>\n",
       "      <td>NaN</td>\n",
       "      <td>Reg</td>\n",
       "      <td>Lvl</td>\n",
       "      <td>...</td>\n",
       "      <td>0</td>\n",
       "      <td>NaN</td>\n",
       "      <td>MnPrv</td>\n",
       "      <td>NaN</td>\n",
       "      <td>0</td>\n",
       "      <td>6</td>\n",
       "      <td>2010</td>\n",
       "      <td>WD</td>\n",
       "      <td>Normal</td>\n",
       "      <td>105000</td>\n",
       "    </tr>\n",
       "    <tr>\n",
       "      <th>2</th>\n",
       "      <td>3</td>\n",
       "      <td>526351010</td>\n",
       "      <td>20</td>\n",
       "      <td>RL</td>\n",
       "      <td>81.0</td>\n",
       "      <td>14267</td>\n",
       "      <td>Pave</td>\n",
       "      <td>NaN</td>\n",
       "      <td>IR1</td>\n",
       "      <td>Lvl</td>\n",
       "      <td>...</td>\n",
       "      <td>0</td>\n",
       "      <td>NaN</td>\n",
       "      <td>NaN</td>\n",
       "      <td>Gar2</td>\n",
       "      <td>12500</td>\n",
       "      <td>6</td>\n",
       "      <td>2010</td>\n",
       "      <td>WD</td>\n",
       "      <td>Normal</td>\n",
       "      <td>172000</td>\n",
       "    </tr>\n",
       "    <tr>\n",
       "      <th>3</th>\n",
       "      <td>4</td>\n",
       "      <td>526353030</td>\n",
       "      <td>20</td>\n",
       "      <td>RL</td>\n",
       "      <td>93.0</td>\n",
       "      <td>11160</td>\n",
       "      <td>Pave</td>\n",
       "      <td>NaN</td>\n",
       "      <td>Reg</td>\n",
       "      <td>Lvl</td>\n",
       "      <td>...</td>\n",
       "      <td>0</td>\n",
       "      <td>NaN</td>\n",
       "      <td>NaN</td>\n",
       "      <td>NaN</td>\n",
       "      <td>0</td>\n",
       "      <td>4</td>\n",
       "      <td>2010</td>\n",
       "      <td>WD</td>\n",
       "      <td>Normal</td>\n",
       "      <td>244000</td>\n",
       "    </tr>\n",
       "    <tr>\n",
       "      <th>4</th>\n",
       "      <td>5</td>\n",
       "      <td>527105010</td>\n",
       "      <td>60</td>\n",
       "      <td>RL</td>\n",
       "      <td>74.0</td>\n",
       "      <td>13830</td>\n",
       "      <td>Pave</td>\n",
       "      <td>NaN</td>\n",
       "      <td>IR1</td>\n",
       "      <td>Lvl</td>\n",
       "      <td>...</td>\n",
       "      <td>0</td>\n",
       "      <td>NaN</td>\n",
       "      <td>MnPrv</td>\n",
       "      <td>NaN</td>\n",
       "      <td>0</td>\n",
       "      <td>3</td>\n",
       "      <td>2010</td>\n",
       "      <td>WD</td>\n",
       "      <td>Normal</td>\n",
       "      <td>189900</td>\n",
       "    </tr>\n",
       "  </tbody>\n",
       "</table>\n",
       "<p>5 rows × 82 columns</p>\n",
       "</div>"
      ],
      "text/plain": [
       "   Order        PID  MS SubClass MS Zoning  Lot Frontage  Lot Area Street  \\\n",
       "0      1  526301100           20        RL         141.0     31770   Pave   \n",
       "1      2  526350040           20        RH          80.0     11622   Pave   \n",
       "2      3  526351010           20        RL          81.0     14267   Pave   \n",
       "3      4  526353030           20        RL          93.0     11160   Pave   \n",
       "4      5  527105010           60        RL          74.0     13830   Pave   \n",
       "\n",
       "  Alley Lot Shape Land Contour    ...     Pool Area Pool QC  Fence  \\\n",
       "0   NaN       IR1          Lvl    ...             0     NaN    NaN   \n",
       "1   NaN       Reg          Lvl    ...             0     NaN  MnPrv   \n",
       "2   NaN       IR1          Lvl    ...             0     NaN    NaN   \n",
       "3   NaN       Reg          Lvl    ...             0     NaN    NaN   \n",
       "4   NaN       IR1          Lvl    ...             0     NaN  MnPrv   \n",
       "\n",
       "  Misc Feature Misc Val Mo Sold Yr Sold Sale Type  Sale Condition  SalePrice  \n",
       "0          NaN        0       5    2010       WD           Normal     215000  \n",
       "1          NaN        0       6    2010       WD           Normal     105000  \n",
       "2         Gar2    12500       6    2010       WD           Normal     172000  \n",
       "3          NaN        0       4    2010       WD           Normal     244000  \n",
       "4          NaN        0       3    2010       WD           Normal     189900  \n",
       "\n",
       "[5 rows x 82 columns]"
      ]
     },
     "execution_count": 1,
     "metadata": {},
     "output_type": "execute_result"
    }
   ],
   "source": [
    "import pandas as pd\n",
    "from matplotlib import pyplot as plt\n",
    "import numpy as np\n",
    "from sklearn.metrics import mean_squared_error\n",
    "from sklearn.model_selection import KFold\n",
    "from sklearn.model_selection import cross_val_score\n",
    "from sklearn.linear_model import LinearRegression\n",
    "%matplotlib inline\n",
    "\n",
    "data=pd.read_csv('AmesHousing.tsv', sep='\\t')\n",
    "data.head()"
   ]
  },
  {
   "cell_type": "code",
   "execution_count": 3,
   "metadata": {},
   "outputs": [],
   "source": [
    "def transform_features(df):\n",
    "    length=len(df)\n",
    "    nulls=df.isnull().sum()\n",
    "    cols=nulls[nulls>length*.25].index\n",
    "    #Dropping columns with over 25% null values\n",
    "    df=df.drop(labels=cols, axis=1)\n",
    "    #Adding descriptive column\n",
    "    df['years_until_remod']=df['Year Remod/Add']-df['Year Built']\n",
    "    nulls=df.isnull().sum()\n",
    "    cols=nulls[(nulls<length*.05) & (nulls>0)].index\n",
    "    #Filling columnns with less than 5% null values with their modes\n",
    "    num_df=df[cols].select_dtypes(include=['int', 'float', 'double'])\n",
    "    df[num_df.columns]=num_df.fillna(num_df.mode())\n",
    "    #Dropping columns that I eyeballed that were non-numeric and low variance if they were to be converted to categorical\n",
    "    df=df.drop(labels=['Street', 'Utilities', 'Condition 1', 'Condition 2', \n",
    "                             'Order', 'Central Air', 'Heating', 'PID', 'Roof Matl',\n",
    "                            'Sale Condition', 'Sale Type', 'Functional','Yr Sold'], axis=1)\n",
    "    #Adding more descriptive columns\n",
    "    df['Indoors SF']=df['Total Bsmt SF']+df['Gr Liv Area']\n",
    "    df['porch_area']=df['Screen Porch']+df['3Ssn Porch']+df['Enclosed Porch']+df['Open Porch SF']\n",
    "    df=df.dropna()\n",
    "    return df"
   ]
  },
  {
   "cell_type": "markdown",
   "metadata": {},
   "source": [
    "We dropped a lot of columns that have low variance and that are non-numeric."
   ]
  },
  {
   "cell_type": "markdown",
   "metadata": {},
   "source": [
    "<h1>Categorical conversion</h1>\n",
    "\n",
    "Later on I use this. Some categories have high correlation with SalePrice, most don't. "
   ]
  },
  {
   "cell_type": "code",
   "execution_count": 33,
   "metadata": {},
   "outputs": [],
   "source": [
    "def convert_categorical(df):\n",
    "    for column in df.columns:\n",
    "        vc=df[column].value_counts()\n",
    "        #This rule gets the best categories\n",
    "        if len(vc)<10 and (max(vc)/len(df))<.95:\n",
    "            dummies=pd.get_dummies(df[column], prefix='cat_'+column)\n",
    "            df=pd.concat([df, dummies], axis=1)\n",
    "            df=df.drop(labels=column, axis=1)\n",
    "    return df"
   ]
  },
  {
   "cell_type": "markdown",
   "metadata": {},
   "source": [
    "<h1>Train and Test</h1>\n",
    "\n",
    "Any non-negative, whole number k value can be used here. As we will see later, this model only improves in accuracy with higher k values. "
   ]
  },
  {
   "cell_type": "code",
   "execution_count": 5,
   "metadata": {},
   "outputs": [],
   "source": [
    "def train_and_test(df,features, k):\n",
    "    if k==0:\n",
    "        train=df[0:1460]\n",
    "        test=df[1460:]\n",
    "        lr=LinearRegression()\n",
    "        lr.fit(df[features], df['SalePrice'])\n",
    "        predictions=lr.predict(test[features])\n",
    "        mse=mean_squared_error(test['SalePrice'], predictions)\n",
    "        rmse=mse**(1/2)\n",
    "        return rmse\n",
    "    if k==1:\n",
    "        order=np.random.permutation(df.index)\n",
    "        df=df.reindex(order)\n",
    "        fold_one=df[0:1460]\n",
    "        fold_two=df[1460:]\n",
    "        l1=LinearRegression()\n",
    "        l1.fit(fold_one[features], fold_one['SalePrice'])\n",
    "        predict_1=l1.predict(fold_two[features])\n",
    "        l2=LinearRegression()\n",
    "        l2.fit(fold_two[features], fold_two['SalePrice'])\n",
    "        predict_2=l2.predict(fold_one[features])\n",
    "        mse_1=mean_squared_error(fold_two['SalePrice'], predict_1)\n",
    "        rmse_1=mse_1**(1/2)\n",
    "        mse_2=mean_squared_error(fold_one['SalePrice'], predict_2)\n",
    "        rmse_2=mse_2**(1/2)\n",
    "        avg_rmse=np.mean(rmse_1+rmse_2)\n",
    "        return avg_rmse\n",
    "    if k>1:\n",
    "        kf=KFold(k, shuffle=True, random_state=1)\n",
    "        lr=LinearRegression()\n",
    "        mses=cross_val_score(lr, df[features], df['SalePrice'], scoring='neg_mean_squared_error',\n",
    "        cv=kf)\n",
    "        rmses=np.sqrt(np.absolute(mses))\n",
    "        avg_rmse=np.mean(rmses)\n",
    "        return avg_rmse\n",
    "        "
   ]
  },
  {
   "cell_type": "code",
   "execution_count": 6,
   "metadata": {},
   "outputs": [],
   "source": [
    "pd.set_option('display.max_columns',500)\n",
    "transform_data=transform_features(data)"
   ]
  },
  {
   "cell_type": "markdown",
   "metadata": {},
   "source": [
    "<h1>Correlation</h1>\n",
    "\n",
    "Mostly square footage seems to correlate with SalePrice. The heatmap doesn't take into account the categorical columns, which are too numerous to be visually displayed. The text just overruns itself and there's too much data at once to analyze. That being said, we can see relationships like Garage Area and Garage Cars being highly correlated to each other. Also the columns I created earlier have high correlation to their source columns. "
   ]
  },
  {
   "cell_type": "code",
   "execution_count": 27,
   "metadata": {},
   "outputs": [
    {
     "data": {
      "text/plain": [
       "<matplotlib.axes._subplots.AxesSubplot at 0x7f56b087f4a8>"
      ]
     },
     "execution_count": 27,
     "metadata": {},
     "output_type": "execute_result"
    },
    {
     "data": {
      "image/png": "[encoded data removed]",
      "text/plain": [
       "<matplotlib.figure.Figure at 0x7f56b0878dd8>"
      ]
     },
     "metadata": {},
     "output_type": "display_data"
    }
   ],
   "source": [
    "import seaborn as sns\n",
    "\n",
    "num_train=transform_data.select_dtypes(include=['int', 'float', 'double'])\n",
    "corrs=num_train.corr()\n",
    "saleprice_corrs=corrs['SalePrice']\n",
    "sns.heatmap(corrs)"
   ]
  },
  {
   "cell_type": "code",
   "execution_count": 28,
   "metadata": {},
   "outputs": [
    {
     "data": {
      "text/plain": [
       "SalePrice            1.000000\n",
       "Overall Qual         0.803153\n",
       "Indoors SF           0.792386\n",
       "Gr Liv Area          0.717469\n",
       "Garage Cars          0.666589\n",
       "Garage Area          0.651103\n",
       "1st Flr SF           0.649510\n",
       "Total Bsmt SF        0.648084\n",
       "Full Bath            0.567360\n",
       "Year Built           0.557264\n",
       "Garage Yr Blt        0.539305\n",
       "Year Remod/Add       0.535272\n",
       "TotRms AbvGrd        0.533801\n",
       "Mas Vnr Area         0.525153\n",
       "Fireplaces           0.458617\n",
       "BsmtFin SF 1         0.425338\n",
       "Lot Frontage         0.362810\n",
       "Open Porch SF        0.327231\n",
       "Wood Deck SF         0.325869\n",
       "Lot Area             0.321952\n",
       "Bsmt Full Bath       0.270874\n",
       "Half Bath            0.265087\n",
       "2nd Flr SF           0.246508\n",
       "Bsmt Unf SF          0.176815\n",
       "porch_area           0.176756\n",
       "Bedroom AbvGr        0.144602\n",
       "Screen Porch         0.110068\n",
       "Pool Area            0.075494\n",
       "Mo Sold              0.031348\n",
       "3Ssn Porch           0.016291\n",
       "Misc Val            -0.014373\n",
       "BsmtFin SF 2        -0.024354\n",
       "Low Qual Fin SF     -0.024987\n",
       "Bsmt Half Bath      -0.055518\n",
       "MS SubClass         -0.085189\n",
       "Kitchen AbvGr       -0.089875\n",
       "Enclosed Porch      -0.146420\n",
       "Overall Cond        -0.179613\n",
       "years_until_remod   -0.249643\n",
       "Name: SalePrice, dtype: float64"
      ]
     },
     "execution_count": 28,
     "metadata": {},
     "output_type": "execute_result"
    }
   ],
   "source": [
    "saleprice_corrs.sort_values(ascending=False)"
   ]
  },
  {
   "cell_type": "markdown",
   "metadata": {},
   "source": [
    "<h1>Picking Features</h1>\n",
    "\n",
    "I picked the top three from the above list. Later on I use KBest Features with chi2 to get a different set."
   ]
  },
  {
   "cell_type": "code",
   "execution_count": 76,
   "metadata": {},
   "outputs": [],
   "source": [
    "def select_features(df):\n",
    "    features=['Gr Liv Area', 'Overall Qual', 'Indoors SF']\n",
    "    selection=features[:]\n",
    "    selection.append('SalePrice')\n",
    "    return df[selection], features"
   ]
  },
  {
   "cell_type": "code",
   "execution_count": 78,
   "metadata": {},
   "outputs": [],
   "source": [
    "prepared_data, features=select_features(transform_data)"
   ]
  },
  {
   "cell_type": "code",
   "execution_count": 79,
   "metadata": {
    "scrolled": false
   },
   "outputs": [
    {
     "data": {
      "text/plain": [
       "37386.637003615571"
      ]
     },
     "execution_count": 79,
     "metadata": {},
     "output_type": "execute_result"
    }
   ],
   "source": [
    "train_and_test(prepared_data, features, 101)"
   ]
  },
  {
   "cell_type": "markdown",
   "metadata": {},
   "source": [
    "<h1>Seeing where the K values plateau</h1>\n",
    "\n",
    "They don't. Not at k=500, anyway. "
   ]
  },
  {
   "cell_type": "code",
   "execution_count": 80,
   "metadata": {},
   "outputs": [
    {
     "data": {
      "text/plain": [
       "{0: 41430.067956909115,\n",
       " 10: 40497.856670310284,\n",
       " 20: 39863.332207677791,\n",
       " 30: 39275.165046658709,\n",
       " 40: 39121.78735073896,\n",
       " 50: 38572.512924196992,\n",
       " 60: 38367.827510331685,\n",
       " 70: 38158.861064972611,\n",
       " 80: 37800.199946040775,\n",
       " 90: 37403.917262662304,\n",
       " 100: 37183.082508718966,\n",
       " 110: 37109.565431626281,\n",
       " 120: 37060.956607617554,\n",
       " 130: 36832.641993600475,\n",
       " 140: 36501.109199247483,\n",
       " 150: 36524.501730468139,\n",
       " 160: 36288.96493354399,\n",
       " 170: 36209.611991883947,\n",
       " 180: 36001.07223991819,\n",
       " 190: 35738.443875987556,\n",
       " 200: 35718.059249633872,\n",
       " 210: 35593.984077235516,\n",
       " 220: 35577.498513873114,\n",
       " 230: 35471.797274891767,\n",
       " 240: 35500.314951464876,\n",
       " 250: 35165.950399242975,\n",
       " 260: 35014.943914215364,\n",
       " 270: 34987.053945903674,\n",
       " 280: 34991.212014188095,\n",
       " 290: 34771.232866606333,\n",
       " 300: 34726.298917599124,\n",
       " 310: 34694.519244802505,\n",
       " 320: 34598.349720139915,\n",
       " 330: 34400.661669130524,\n",
       " 340: 34403.039734681784,\n",
       " 350: 34263.662096047228,\n",
       " 360: 34302.015744062264,\n",
       " 370: 34210.173049972553,\n",
       " 380: 34021.923362846741,\n",
       " 390: 33862.643321485957,\n",
       " 400: 33777.705573359141,\n",
       " 410: 33701.135193021306,\n",
       " 420: 33698.20603844877,\n",
       " 430: 33651.06902101828,\n",
       " 440: 33694.262273857261,\n",
       " 450: 33668.931256296062,\n",
       " 460: 33548.814693731118,\n",
       " 470: 33403.872978655083,\n",
       " 480: 33272.177055819098,\n",
       " 490: 33241.834379410517}"
      ]
     },
     "execution_count": 80,
     "metadata": {},
     "output_type": "execute_result"
    }
   ],
   "source": [
    "avg_rmses=dict()\n",
    "for k in range(0,500,10):\n",
    "    avg_rmse=train_and_test(prepared_data, features, k)\n",
    "    avg_rmses[k]=avg_rmse\n",
    "avg_rmses"
   ]
  },
  {
   "cell_type": "code",
   "execution_count": 81,
   "metadata": {},
   "outputs": [
    {
     "data": {
      "text/plain": [
       "490"
      ]
     },
     "execution_count": 81,
     "metadata": {},
     "output_type": "execute_result"
    },
    {
     "data": {
      "image/png": "[encoded data removed]",
      "text/plain": [
       "<matplotlib.figure.Figure at 0x8363828>"
      ]
     },
     "metadata": {},
     "output_type": "display_data"
    }
   ],
   "source": [
    "x=np.arange(100)\n",
    "plt.scatter(list(avg_rmses.keys()), list(avg_rmses.values()))\n",
    "plt.title('K values versus RMSE')\n",
    "min(avg_rmses, key=avg_rmses.get)"
   ]
  },
  {
   "cell_type": "markdown",
   "metadata": {},
   "source": [
    "<h1>Alternate Feature Selection with SelectKBest</h1>\n",
    "\n",
    "First I get category columns with pandas dummies in the function convert_categorical from earlier. Then I get the 10 best features according to chi2. The accuracy ends up being lower than with the other three best features selected earlier."
   ]
  },
  {
   "cell_type": "markdown",
   "metadata": {},
   "source": [
    "The avg rmse keeps getting lower with higher K values."
   ]
  },
  {
   "cell_type": "code",
   "execution_count": 34,
   "metadata": {},
   "outputs": [],
   "source": [
    "cat_data=convert_categorical(transform_data)"
   ]
  },
  {
   "cell_type": "code",
   "execution_count": 68,
   "metadata": {},
   "outputs": [
    {
     "data": {
      "text/plain": [
       "Index(['Lot Area', 'Mas Vnr Area', 'BsmtFin SF 1', 'BsmtFin SF 2',\n",
       "       'Bsmt Unf SF', '2nd Flr SF', 'Low Qual Fin SF', 'Pool Area', 'Misc Val',\n",
       "       'Indoors SF'],\n",
       "      dtype='object')"
      ]
     },
     "execution_count": 68,
     "metadata": {},
     "output_type": "execute_result"
    }
   ],
   "source": [
    "from sklearn.feature_selection import SelectKBest\n",
    "from sklearn.feature_selection import chi2\n",
    "\n",
    "#Some data manipulation to prepare for SelectKBest\n",
    "remove=list(cat_data.select_dtypes(include=['object']).columns)\n",
    "cat_data=cat_data.drop(labels=remove, axis=1)\n",
    "cols=list(cat_data.columns)\n",
    "cols.remove('SalePrice')\n",
    "X=np.absolute(cat_data[cols])\n",
    "y=cat_data['SalePrice']\n",
    "\n",
    "#Use chi2 with SelectKBest\n",
    "test = SelectKBest(score_func=chi2, k=10)\n",
    "fit = test.fit(X, y)\n",
    "\n",
    "mask = test.get_support()\n",
    "new_features = X.columns[mask]\n",
    "new_features"
   ]
  },
  {
   "cell_type": "code",
   "execution_count": 71,
   "metadata": {},
   "outputs": [
    {
     "data": {
      "text/plain": [
       "45145.201768645202"
      ]
     },
     "execution_count": 71,
     "metadata": {},
     "output_type": "execute_result"
    }
   ],
   "source": [
    "train_and_test(cat_data, new_features, 101)"
   ]
  },
  {
   "cell_type": "markdown",
   "metadata": {},
   "source": [
    "<h1>Conclusion</h1>\n",
    "\n",
    "The best model seems to have a very large K and use the top three features that correlate with SalePrice."
   ]
  }
 ],
 "metadata": {
  "anaconda-cloud": {},
  "kernelspec": {
   "display_name": "Python 3",
   "language": "python",
   "name": "python3"
  },
  "language_info": {
   "codemirror_mode": {
    "name": "ipython",
    "version": 3
   },
   "file_extension": ".py",
   "mimetype": "text/x-python",
   "name": "python",
   "nbconvert_exporter": "python",
   "pygments_lexer": "ipython3",
   "version": "3.6.3"
  }
 },
 "nbformat": 4,
 "nbformat_minor": 2
}
